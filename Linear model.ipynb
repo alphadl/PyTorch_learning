{
 "cells": [
  {
   "cell_type": "code",
   "execution_count": 1,
   "metadata": {},
   "outputs": [],
   "source": [
    "import torch\n",
    "from __future__ import print_function"
   ]
  },
  {
   "cell_type": "code",
   "execution_count": 2,
   "metadata": {},
   "outputs": [
    {
     "name": "stdout",
     "output_type": "stream",
     "text": [
      "\n",
      " 0.0000e+00 -3.6893e+19  0.0000e+00\n",
      "-3.6893e+19  1.4433e-43 -3.6893e+19\n",
      " 0.0000e+00 -3.6893e+19  0.0000e+00\n",
      "-3.6893e+19  0.0000e+00 -3.6893e+19\n",
      " 1.6751e-37  2.9775e-41  0.0000e+00\n",
      "[torch.FloatTensor of size 5x3]\n",
      "\n"
     ]
    }
   ],
   "source": [
    "#tensor looks like numpy's ndarray, is a basic element\n",
    "x=torch.Tensor(5,3)\n",
    "print(x)"
   ]
  },
  {
   "cell_type": "code",
   "execution_count": 3,
   "metadata": {},
   "outputs": [
    {
     "name": "stdout",
     "output_type": "stream",
     "text": [
      "torch.Size([5, 3])\n"
     ]
    }
   ],
   "source": [
    "#x.size() means tensor's size\n",
    "print(x.size())"
   ]
  },
  {
   "cell_type": "code",
   "execution_count": 4,
   "metadata": {},
   "outputs": [
    {
     "name": "stdout",
     "output_type": "stream",
     "text": [
      "\n",
      " 9.8074e-01 -3.6893e+19  1.2862e-01\n",
      "-3.6893e+19  5.1057e-01 -3.6893e+19\n",
      " 8.8855e-02 -3.6893e+19  3.9304e-01\n",
      "-3.6893e+19  3.7040e-01 -3.6893e+19\n",
      " 2.7508e-01  6.3998e-01  6.2596e-01\n",
      "[torch.FloatTensor of size 5x3]\n",
      "\n"
     ]
    }
   ],
   "source": [
    "#construct a ramdomly initialized matrix\n",
    "y=torch.rand(5,3)\n",
    "print(x+y)"
   ]
  },
  {
   "cell_type": "code",
   "execution_count": 5,
   "metadata": {},
   "outputs": [
    {
     "name": "stdout",
     "output_type": "stream",
     "text": [
      "\n",
      " 9.8074e-01 -3.6893e+19  1.2862e-01\n",
      "-3.6893e+19  5.1057e-01 -3.6893e+19\n",
      " 8.8855e-02 -3.6893e+19  3.9304e-01\n",
      "-3.6893e+19  3.7040e-01 -3.6893e+19\n",
      " 2.7508e-01  6.3998e-01  6.2596e-01\n",
      "[torch.FloatTensor of size 5x3]\n",
      "\n"
     ]
    }
   ],
   "source": [
    "print(torch.add(x,y))"
   ]
  },
  {
   "cell_type": "code",
   "execution_count": 6,
   "metadata": {},
   "outputs": [
    {
     "name": "stdout",
     "output_type": "stream",
     "text": [
      "\n",
      " 9.8074e-01 -3.6893e+19  1.2862e-01\n",
      "-3.6893e+19  5.1057e-01 -3.6893e+19\n",
      " 8.8855e-02 -3.6893e+19  3.9304e-01\n",
      "-3.6893e+19  3.7040e-01 -3.6893e+19\n",
      " 2.7508e-01  6.3998e-01  6.2596e-01\n",
      "[torch.FloatTensor of size 5x3]\n",
      "\n"
     ]
    }
   ],
   "source": [
    "result=torch.Tensor(5,3)\n",
    "torch.add(x,y,out=result)\n",
    "print(result)"
   ]
  },
  {
   "cell_type": "code",
   "execution_count": 7,
   "metadata": {},
   "outputs": [
    {
     "name": "stdout",
     "output_type": "stream",
     "text": [
      "0.2.0_3\n"
     ]
    }
   ],
   "source": [
    "print(torch.__version__)"
   ]
  },
  {
   "cell_type": "code",
   "execution_count": 8,
   "metadata": {},
   "outputs": [],
   "source": [
    "##linear model\n",
    "'''\n",
    "x    p\n",
    "1    2\n",
    "2    4\n",
    "3    6\n",
    "4    ?\n",
    "\n",
    "y_pred=x*w+b\n",
    "x->Linear->y_pred\n",
    "'''\n",
    "w=1.0 #a random guess: random value\n",
    "\n",
    "#our model for the forward pass\n",
    "def y_pred(x):\n",
    "    return x * w\n",
    "\n",
    "#loss function\n",
    "def loss(x,y):\n",
    "    return (y_pred(x)-y)*(y_pred(x)-y)\n",
    "\n",
    "import numpy as np"
   ]
  },
  {
   "cell_type": "code",
   "execution_count": 9,
   "metadata": {},
   "outputs": [
    {
     "name": "stdout",
     "output_type": "stream",
     "text": [
      "w= 0.0\n",
      "\t 1 2 0.0 4.0\n",
      "\t 2 4 0.0 16.0\n",
      "\t 3 6 0.0 36.0\n",
      "MSE= 18.6666666667\n",
      "w= 0.1\n",
      "\t 1 2 0.1 3.61\n",
      "\t 2 4 0.2 14.44\n",
      "\t 3 6 0.3 32.49\n",
      "MSE= 16.8466666667\n",
      "w= 0.2\n",
      "\t 1 2 0.2 3.24\n",
      "\t 2 4 0.4 12.96\n",
      "\t 3 6 0.6 29.16\n",
      "MSE= 15.12\n",
      "w= 0.3\n",
      "\t 1 2 0.3 2.89\n",
      "\t 2 4 0.6 11.56\n",
      "\t 3 6 0.9 26.01\n",
      "MSE= 13.4866666667\n",
      "w= 0.4\n",
      "\t 1 2 0.4 2.56\n",
      "\t 2 4 0.8 10.24\n",
      "\t 3 6 1.2 23.04\n",
      "MSE= 11.9466666667\n",
      "w= 0.5\n",
      "\t 1 2 0.5 2.25\n",
      "\t 2 4 1.0 9.0\n",
      "\t 3 6 1.5 20.25\n",
      "MSE= 10.5\n",
      "w= 0.6\n",
      "\t 1 2 0.6 1.96\n",
      "\t 2 4 1.2 7.84\n",
      "\t 3 6 1.8 17.64\n",
      "MSE= 9.14666666667\n",
      "w= 0.7\n",
      "\t 1 2 0.7 1.69\n",
      "\t 2 4 1.4 6.76\n",
      "\t 3 6 2.1 15.21\n",
      "MSE= 7.88666666667\n",
      "w= 0.8\n",
      "\t 1 2 0.8 1.44\n",
      "\t 2 4 1.6 5.76\n",
      "\t 3 6 2.4 12.96\n",
      "MSE= 6.72\n",
      "w= 0.9\n",
      "\t 1 2 0.9 1.21\n",
      "\t 2 4 1.8 4.84\n",
      "\t 3 6 2.7 10.89\n",
      "MSE= 5.64666666667\n",
      "w= 1.0\n",
      "\t 1 2 1.0 1.0\n",
      "\t 2 4 2.0 4.0\n",
      "\t 3 6 3.0 9.0\n",
      "MSE= 4.66666666667\n",
      "w= 1.1\n",
      "\t 1 2 1.1 0.81\n",
      "\t 2 4 2.2 3.24\n",
      "\t 3 6 3.3 7.29\n",
      "MSE= 3.78\n",
      "w= 1.2\n",
      "\t 1 2 1.2 0.64\n",
      "\t 2 4 2.4 2.56\n",
      "\t 3 6 3.6 5.76\n",
      "MSE= 2.98666666667\n",
      "w= 1.3\n",
      "\t 1 2 1.3 0.49\n",
      "\t 2 4 2.6 1.96\n",
      "\t 3 6 3.9 4.41\n",
      "MSE= 2.28666666667\n",
      "w= 1.4\n",
      "\t 1 2 1.4 0.36\n",
      "\t 2 4 2.8 1.44\n",
      "\t 3 6 4.2 3.24\n",
      "MSE= 1.68\n",
      "w= 1.5\n",
      "\t 1 2 1.5 0.25\n",
      "\t 2 4 3.0 1.0\n",
      "\t 3 6 4.5 2.25\n",
      "MSE= 1.16666666667\n",
      "w= 1.6\n",
      "\t 1 2 1.6 0.16\n",
      "\t 2 4 3.2 0.64\n",
      "\t 3 6 4.8 1.44\n",
      "MSE= 0.746666666667\n",
      "w= 1.7\n",
      "\t 1 2 1.7 0.09\n",
      "\t 2 4 3.4 0.36\n",
      "\t 3 6 5.1 0.81\n",
      "MSE= 0.42\n",
      "w= 1.8\n",
      "\t 1 2 1.8 0.04\n",
      "\t 2 4 3.6 0.16\n",
      "\t 3 6 5.4 0.36\n",
      "MSE= 0.186666666667\n",
      "w= 1.9\n",
      "\t 1 2 1.9 0.01\n",
      "\t 2 4 3.8 0.04\n",
      "\t 3 6 5.7 0.09\n",
      "MSE= 0.0466666666667\n",
      "w= 2.0\n",
      "\t 1 2 2.0 0.0\n",
      "\t 2 4 4.0 0.0\n",
      "\t 3 6 6.0 0.0\n",
      "MSE= 0.0\n",
      "w= 2.1\n",
      "\t 1 2 2.1 0.01\n",
      "\t 2 4 4.2 0.04\n",
      "\t 3 6 6.3 0.09\n",
      "MSE= 0.0466666666667\n",
      "w= 2.2\n",
      "\t 1 2 2.2 0.04\n",
      "\t 2 4 4.4 0.16\n",
      "\t 3 6 6.6 0.36\n",
      "MSE= 0.186666666667\n",
      "w= 2.3\n",
      "\t 1 2 2.3 0.09\n",
      "\t 2 4 4.6 0.36\n",
      "\t 3 6 6.9 0.81\n",
      "MSE= 0.42\n",
      "w= 2.4\n",
      "\t 1 2 2.4 0.16\n",
      "\t 2 4 4.8 0.64\n",
      "\t 3 6 7.2 1.44\n",
      "MSE= 0.746666666667\n",
      "w= 2.5\n",
      "\t 1 2 2.5 0.25\n",
      "\t 2 4 5.0 1.0\n",
      "\t 3 6 7.5 2.25\n",
      "MSE= 1.16666666667\n",
      "w= 2.6\n",
      "\t 1 2 2.6 0.36\n",
      "\t 2 4 5.2 1.44\n",
      "\t 3 6 7.8 3.24\n",
      "MSE= 1.68\n",
      "w= 2.7\n",
      "\t 1 2 2.7 0.49\n",
      "\t 2 4 5.4 1.96\n",
      "\t 3 6 8.1 4.41\n",
      "MSE= 2.28666666667\n",
      "w= 2.8\n",
      "\t 1 2 2.8 0.64\n",
      "\t 2 4 5.6 2.56\n",
      "\t 3 6 8.4 5.76\n",
      "MSE= 2.98666666667\n",
      "w= 2.9\n",
      "\t 1 2 2.9 0.81\n",
      "\t 2 4 5.8 3.24\n",
      "\t 3 6 8.7 7.29\n",
      "MSE= 3.78\n",
      "w= 3.0\n",
      "\t 1 2 3.0 1.0\n",
      "\t 2 4 6.0 4.0\n",
      "\t 3 6 9.0 9.0\n",
      "MSE= 4.66666666667\n",
      "w= 3.1\n",
      "\t 1 2 3.1 1.21\n",
      "\t 2 4 6.2 4.84\n",
      "\t 3 6 9.3 10.89\n",
      "MSE= 5.64666666667\n",
      "w= 3.2\n",
      "\t 1 2 3.2 1.44\n",
      "\t 2 4 6.4 5.76\n",
      "\t 3 6 9.6 12.96\n",
      "MSE= 6.72\n",
      "w= 3.3\n",
      "\t 1 2 3.3 1.69\n",
      "\t 2 4 6.6 6.76\n",
      "\t 3 6 9.9 15.21\n",
      "MSE= 7.88666666667\n",
      "w= 3.4\n",
      "\t 1 2 3.4 1.96\n",
      "\t 2 4 6.8 7.84\n",
      "\t 3 6 10.2 17.64\n",
      "MSE= 9.14666666667\n",
      "w= 3.5\n",
      "\t 1 2 3.5 2.25\n",
      "\t 2 4 7.0 9.0\n",
      "\t 3 6 10.5 20.25\n",
      "MSE= 10.5\n",
      "w= 3.6\n",
      "\t 1 2 3.6 2.56\n",
      "\t 2 4 7.2 10.24\n",
      "\t 3 6 10.8 23.04\n",
      "MSE= 11.9466666667\n",
      "w= 3.7\n",
      "\t 1 2 3.7 2.89\n",
      "\t 2 4 7.4 11.56\n",
      "\t 3 6 11.1 26.01\n",
      "MSE= 13.4866666667\n",
      "w= 3.8\n",
      "\t 1 2 3.8 3.24\n",
      "\t 2 4 7.6 12.96\n",
      "\t 3 6 11.4 29.16\n",
      "MSE= 15.12\n",
      "w= 3.9\n",
      "\t 1 2 3.9 3.61\n",
      "\t 2 4 7.8 14.44\n",
      "\t 3 6 11.7 32.49\n",
      "MSE= 16.8466666667\n",
      "w= 4.0\n",
      "\t 1 2 4.0 4.0\n",
      "\t 2 4 8.0 16.0\n",
      "\t 3 6 12.0 36.0\n",
      "MSE= 18.6666666667\n"
     ]
    },
    {
     "data": {
      "image/png": "[encoded data removed]",
      "text/plain": [
       "<matplotlib.figure.Figure at 0x10d3dde80>"
      ]
     },
     "metadata": {},
     "output_type": "display_data"
    }
   ],
   "source": [
    "#compute loss for w\n",
    "x_data=[1,2,3]\n",
    "y_data=[2,4,6]\n",
    "assert len(x_data)==len(y_data)\n",
    "\n",
    "w_list,mse_list=[],[]\n",
    "#w from 0.0 to 4.1 by step 0.1\n",
    "for w in np.arange(0.0,4.1,0.1):\n",
    "    print(\"w=\",w)\n",
    "    loss_sum=0\n",
    "    for x_val,y_val in zip(x_data,y_data):\n",
    "        y_pred_val=y_pred(x_val)\n",
    "        loss_=loss(x_val,y_val)\n",
    "        loss_sum+=loss_\n",
    "        print(\"\\t\",x_val,y_val,y_pred_val,loss_)\n",
    "        \n",
    "    print(\"MSE=\",loss_sum / len(x_data))\n",
    "    w_list.append(w)\n",
    "    mse_list.append(loss_sum / len(x_data))\n",
    "#plot the w-loss figure\n",
    "import matplotlib.pyplot as plt\n",
    "plt.plot(w_list,mse_list)\n",
    "plt.ylabel('loss')\n",
    "plt.xlabel('w')\n",
    "plt.show()"
   ]
  },
  {
   "cell_type": "code",
   "execution_count": 10,
   "metadata": {},
   "outputs": [
    {
     "name": "stdout",
     "output_type": "stream",
     "text": [
      "the optimal parameter w = 2.0\n",
      "the most minium mse = 0.0\n"
     ]
    }
   ],
   "source": [
    "print('the optimal parameter w =',w_list[mse_list.index(min(mse_list))])\n",
    "print('the most minium mse =',min(mse_list))"
   ]
  },
  {
   "cell_type": "code",
   "execution_count": null,
   "metadata": {},
   "outputs": [],
   "source": []
  }
 ],
 "metadata": {
  "kernelspec": {
   "display_name": "Python 3",
   "language": "python",
   "name": "python3"
  },
  "language_info": {
   "codemirror_mode": {
    "name": "ipython",
    "version": 3
   },
   "file_extension": ".py",
   "mimetype": "text/x-python",
   "name": "python",
   "nbconvert_exporter": "python",
   "pygments_lexer": "ipython3",
   "version": "3.5.3"
  }
 },
 "nbformat": 4,
 "nbformat_minor": 2
}
